{
 "cells": [
  {
   "cell_type": "markdown",
   "metadata": {},
   "source": [
    "Explore solutions to Anagrams in python"
   ]
  },
  {
   "cell_type": "code",
   "execution_count": 34,
   "metadata": {},
   "outputs": [],
   "source": [
    "# Check anagrams\n",
    "from collections import Counter, OrderedDict, defaultdict\n",
    "from nose.tools import assert_equal, assert_raises\n",
    "\n",
    "\n",
    "class Anagram(object):\n",
    "    \n",
    "    def is_anagram(self, s1, s2):\n",
    "        \"Return True if s1 and s2 are anagrams\"\n",
    "        return Counter(s1) == Counter(s2)\n",
    "    \n",
    "    def sort_by_anagram(self, s1):\n",
    "        \"\"\"\n",
    "        Sort an array of strings so all anagrams are next to each other.\n",
    "        \"\"\"\n",
    "        if s1 is None:\n",
    "            raise TypeError('String cannot be None')\n",
    "        if not s1:\n",
    "            return s1\n",
    "        \n",
    "        map_anagram = OrderedDict()\n",
    "        for s in s1:\n",
    "            sorted_s = tuple(sorted(s))\n",
    "            if sorted_s in map_anagram:\n",
    "                map_anagram[sorted_s].append(s)\n",
    "            else:\n",
    "                map_anagram[sorted_s] = [s]\n",
    "        \n",
    "        result = []\n",
    "        for value in map_anagram.values():\n",
    "            result.extend(value)\n",
    "        \n",
    "        return result\n",
    "    \n",
    "    def group_anagrams(self, s1):\n",
    "        \"\"\"\n",
    "        Given an array of strings, return all groups of strings that are anagrams.\n",
    "        :type strs: List[str]\n",
    "        :rtype: List[List[str]]\n",
    "        \"\"\"\n",
    "        map_anagram = defaultdict(list)\n",
    "        result = []\n",
    "        \n",
    "        for s in s1:\n",
    "            sorted_s = \"\".join(sorted(s))\n",
    "            map_anagram[sorted_s].append(s)\n",
    "        \n",
    "        for anagram in map_anagram.values():\n",
    "            anagram.sort()\n",
    "            result.append(anagram)\n",
    "            \n",
    "        return result            "
   ]
  },
  {
   "cell_type": "code",
   "execution_count": 37,
   "metadata": {},
   "outputs": [],
   "source": [
    "class TestAnagrams(object):\n",
    "    \n",
    "    def test_is_anagram1(self):\n",
    "        s1 = 'raul'\n",
    "        s2 = 'luar'\n",
    "        anagram = Anagram()\n",
    "        assert_equal(anagram.is_anagram(s1, s2), True)\n",
    "        \n",
    "        print('Success: test_is_anagram1')\n",
    "    \n",
    "    def test_is_anagram2(self):\n",
    "        s1 = 'raul'\n",
    "        s2 = 'tuar'\n",
    "        anagram = Anagram()\n",
    "        assert_equal(anagram.is_anagram(s1, s2), False)\n",
    "        \n",
    "        print('Success: test_is_anagram2')\n",
    "        \n",
    "    def test_sorted_by_anagram(self):\n",
    "        anagram = Anagram()\n",
    "        assert_raises(TypeError, anagram.sort_by_anagram, None)\n",
    "        data = ['ram', 'act', 'arm', 'bat', 'cat', 'tab']\n",
    "        expected = ['ram', 'arm', 'act', 'cat', 'bat', 'tab']\n",
    "        assert_equal(anagram.sort_by_anagram(data), expected)\n",
    "\n",
    "        print('Success: test_sorted_by_anagram')\n",
    "        \n",
    "    def test_group_anagrams(self):\n",
    "        anagram = Anagram()\n",
    "        data = [\"cat\", \"dog\", \"act\", \"mac\"]\n",
    "        expected = [['act', 'cat'], ['dog'], ['mac']]\n",
    "        assert_equal(anagram.group_anagrams(data), expected)\n",
    "        \n",
    "        print(\"Success: test_group_anagrams\")\n",
    "        "
   ]
  },
  {
   "cell_type": "code",
   "execution_count": 38,
   "metadata": {},
   "outputs": [
    {
     "name": "stdout",
     "output_type": "stream",
     "text": [
      "Success: test_is_anagram1\n",
      "Success: test_is_anagram2\n",
      "Success: test_sorted_by_anagram\n",
      "Success: test_group_anagrams\n"
     ]
    }
   ],
   "source": [
    "test = TestAnagrams()\n",
    "test.test_is_anagram1()\n",
    "test.test_is_anagram2()\n",
    "test.test_sorted_by_anagram()\n",
    "test.test_group_anagrams()"
   ]
  },
  {
   "cell_type": "code",
   "execution_count": 12,
   "metadata": {},
   "outputs": [
    {
     "data": {
      "text/plain": [
       "97"
      ]
     },
     "execution_count": 12,
     "metadata": {},
     "output_type": "execute_result"
    }
   ],
   "source": [
    "ord('a')"
   ]
  },
  {
   "cell_type": "code",
   "execution_count": null,
   "metadata": {},
   "outputs": [],
   "source": []
  }
 ],
 "metadata": {
  "kernelspec": {
   "display_name": "Python 3",
   "language": "python",
   "name": "python3"
  },
  "language_info": {
   "codemirror_mode": {
    "name": "ipython",
    "version": 3
   },
   "file_extension": ".py",
   "mimetype": "text/x-python",
   "name": "python",
   "nbconvert_exporter": "python",
   "pygments_lexer": "ipython3",
   "version": "3.6.4"
  }
 },
 "nbformat": 4,
 "nbformat_minor": 2
}
